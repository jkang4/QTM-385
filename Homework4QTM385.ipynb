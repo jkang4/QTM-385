{
 "cells": [
  {
   "cell_type": "markdown",
   "metadata": {},
   "source": [
    "# QTM 385\n",
    "\n",
    "***\n",
    "\n",
    "## Homework 4\n",
    "\n",
    "Student: Jessica Kang"
   ]
  },
  {
   "cell_type": "markdown",
   "metadata": {},
   "source": [
    "In this homework, we will create an object called Student, that is useful for a professor to store information about a student."
   ]
  },
  {
   "cell_type": "markdown",
   "metadata": {},
   "source": [
    "\n",
    "***\n",
    "\n",
    "### Question 1\n",
    "\n",
    "Create a class Student, that has:\n",
    "\n",
    "0. Id number (5-digits integer, starting with 1)\n",
    "1. First Name (str)\n",
    "2. Last Name (str)\n",
    "3. Grades (list of floats)\n",
    "4. Credits (list of integers)\n",
    "5. Major (str)\n",
    "\n",
    "Provide a constructor for your class and create one fictitious student."
   ]
  },
  {
   "cell_type": "code",
   "execution_count": 1,
   "metadata": {},
   "outputs": [],
   "source": [
    "class Student:\n",
    "    \n",
    "    # constructor\n",
    "    def __init__ (self, num, fir, last, grad, cred, maj):\n",
    "        self.id = num\n",
    "        self.first = fir\n",
    "        self.last = last\n",
    "        self.grades = grad\n",
    "        self.credits = cred\n",
    "        self.major = maj\n",
    "\n",
    "stu = Student(12345,'Harry', 'Potter',[95.5, 100, 90, 80], [3,4,2,3], 'Chemistry')"
   ]
  },
  {
   "cell_type": "markdown",
   "metadata": {},
   "source": [
    "\n",
    "***\n",
    "\n",
    "### Question 2\n",
    "\n",
    "Create a method to nicely display the student when we type `print`. It should display, for example:\n",
    "\n",
    "```\n",
    "Student:\n",
    "    Id: 12345\n",
    "    Name: Mig, Umberto\n",
    "    Major: QSS\n",
    "```\n",
    "\n",
    "Create a method that, when a variable storing a student is typed in the console, displays:\n",
    "\n",
    "```\n",
    "Student(Mig, Umberto; 12345)\n",
    "```\n",
    "\n",
    "Provide some testing with a fictitious result of your choice."
   ]
  },
  {
   "cell_type": "code",
   "execution_count": 2,
   "metadata": {},
   "outputs": [],
   "source": [
    "class Student:\n",
    "    \n",
    "    # constructor\n",
    "    def __init__ (self, num, fir, last, grad, cred, maj):\n",
    "        self.id = num\n",
    "        self.first = fir\n",
    "        self.last = last\n",
    "        self.grades = grad\n",
    "        self.credits = cred\n",
    "        self.major = maj\n",
    "        \n",
    "    def __str__(self):\n",
    "        st_info = \"\"\"\n",
    "        Student:\n",
    "            Id: {num}\n",
    "            Name: {nam}\n",
    "            Major: {maj}\n",
    "            \"\"\".format(num = str(self.id), nam = self.last + ', ' + self.first, maj = str(self.major))\n",
    "        return st_info\n",
    "        \n",
    "    def __repr__(self):\n",
    "        return \"Student({last}, {first}; {num})\".format(last = self.last, first = self.first, num = self.id)"
   ]
  },
  {
   "cell_type": "code",
   "execution_count": 3,
   "metadata": {},
   "outputs": [
    {
     "name": "stdout",
     "output_type": "stream",
     "text": [
      "\n",
      "        Student:\n",
      "            Id: 12345\n",
      "            Name: Potter, Harry\n",
      "            Major: Chemistry\n",
      "            \n"
     ]
    }
   ],
   "source": [
    "stu = Student(12345,'Harry', 'Potter',[95.5, 100, 90, 80], [3,4,2,3], 'Chemistry')\n",
    "print(stu)"
   ]
  },
  {
   "cell_type": "code",
   "execution_count": 4,
   "metadata": {},
   "outputs": [
    {
     "data": {
      "text/plain": [
       "Student(Potter, Harry; 12345)"
      ]
     },
     "execution_count": 4,
     "metadata": {},
     "output_type": "execute_result"
    }
   ],
   "source": [
    "stu"
   ]
  },
  {
   "cell_type": "markdown",
   "metadata": {},
   "source": [
    "\n",
    "***\n",
    "\n",
    "### Question 3\n",
    "\n",
    "Implement class methods for:\n",
    "\n",
    "1. Check if the id number is valid (remember: 5 digits, starting with number one)\n",
    "2. Check if the grades list has the same length as the credits list. The idea is that every grade corresponds to a course that gave the student a certain amount of credits.\n",
    "3. Append grade and credit: given a grade, and credits attached to the grade, append both to each respective place.\n",
    "\n",
    "Test your function with a toy student of your choice."
   ]
  },
  {
   "cell_type": "code",
   "execution_count": 5,
   "metadata": {},
   "outputs": [],
   "source": [
    "class Student:\n",
    "    \n",
    "    # constructor\n",
    "    def __init__ (self, num, fir, last, grad, cred, maj):\n",
    "        self.id = num\n",
    "        self.first = fir\n",
    "        self.last = last\n",
    "        self.grades = grad\n",
    "        self.credits = cred\n",
    "        self.major = maj\n",
    "        \n",
    "    def __str__(self):\n",
    "        st_info = \"\"\"\n",
    "        Student:\n",
    "            Id: {num}\n",
    "            Name: {nam}\n",
    "            Major: {maj}\n",
    "            \"\"\".format(num = str(self.id), nam = self.last + ', ' + self.first, maj = str(self.major))\n",
    "        return st_info\n",
    "    \n",
    "    def __repr__(self):\n",
    "        return \"Student({last}, {first}; {num})\".format(last = self.last, first = self.first, num = self.id)\n",
    "    \n",
    "    # Checks if the id number is valid \n",
    "    def check_id(self):\n",
    "        if len(str(self.id)) == 5 and int(str(self.id)[0]) == 1: \n",
    "            print('Valid ID number')\n",
    "        else:\n",
    "            print('Not a valid ID number')\n",
    "            \n",
    "    # Checks if the grades list has the same length as the credits list. \n",
    "    def check_grades(self):\n",
    "        if len(self.grades) == len(self.credits): \n",
    "            print('Grades and credits match!')\n",
    "        else:\n",
    "            print('Grades and credits do not match')\n",
    "            \n",
    "    # Appends grade and credits to their respective places\n",
    "    def append(self, newgrade, newcredit):\n",
    "        self.grades.append(newgrade)\n",
    "        self.credits.append(newcredit)"
   ]
  },
  {
   "cell_type": "code",
   "execution_count": 6,
   "metadata": {},
   "outputs": [
    {
     "name": "stdout",
     "output_type": "stream",
     "text": [
      "Valid ID number\n",
      "Grades and credits match!\n"
     ]
    },
    {
     "data": {
      "text/plain": [
       "([95.5, 100, 90, 80, 88.5], [3, 4, 2, 3, 4])"
      ]
     },
     "execution_count": 6,
     "metadata": {},
     "output_type": "execute_result"
    }
   ],
   "source": [
    "stu = Student(12345,'Harry', 'Potter',[95.5, 100, 90, 80], [3,4,2,3], 'Chemistry')\n",
    "stu.check_id()\n",
    "stu.check_grades()\n",
    "\n",
    "stu.append(88.5, 4)\n",
    "stu.grades, stu.credits"
   ]
  },
  {
   "cell_type": "code",
   "execution_count": 7,
   "metadata": {},
   "outputs": [
    {
     "name": "stdout",
     "output_type": "stream",
     "text": [
      "Not a valid ID number\n",
      "Grades and credits do not match\n"
     ]
    }
   ],
   "source": [
    "stu2 = Student(54321,'Hermione', 'Granger',[100, 100, 100], [4,4,3,3], 'History')\n",
    "stu2.check_id()\n",
    "stu2.check_grades()"
   ]
  },
  {
   "cell_type": "markdown",
   "metadata": {},
   "source": [
    "\n",
    "***\n",
    "\n",
    "### Question 4\n",
    "\n",
    "Create a module in the class Student that computes the unweighted average of the student's grades."
   ]
  },
  {
   "cell_type": "code",
   "execution_count": 8,
   "metadata": {},
   "outputs": [],
   "source": [
    "class Student:\n",
    "    \n",
    "    # constructor\n",
    "    def __init__ (self, num, fir, last, grad, cred, maj):\n",
    "        self.id = num\n",
    "        self.first = fir\n",
    "        self.last = last\n",
    "        self.grades = grad\n",
    "        self.credits = cred\n",
    "        self.major = maj\n",
    "        \n",
    "    def __str__(self):\n",
    "        st_info = \"\"\"\n",
    "        Student:\n",
    "            Id: {num}\n",
    "            Name: {nam}\n",
    "            Major: {maj}\n",
    "            \"\"\".format(num = str(self.id), nam = self.last + ', ' + self.first, maj = str(self.major))\n",
    "        return st_info\n",
    "    \n",
    "    # Checks if the id number is valid \n",
    "    def check_id(self):\n",
    "        if len(str(self.id)) == 5 and int(str(self.id)[0]) == 1: \n",
    "            print('Valid ID number')\n",
    "        else:\n",
    "            print('Not a valid ID number')\n",
    "            \n",
    "    # Checks if the grades list has the same length as the credits list. \n",
    "    def check_grades(self):\n",
    "        if len(self.grades) == len(self.credits): \n",
    "            print('Grades and credits match!')\n",
    "        else:\n",
    "            print('Grades and credits do not match')\n",
    "            \n",
    "    # Appends grade and credits to their respective places\n",
    "    def append(self, newgrade, newcredit):\n",
    "        self.grades.append(newgrade)\n",
    "        self.credits.append(newcredit)\n",
    "        \n",
    "    # Computes average of student's grades\n",
    "    def avg_grades(self):\n",
    "        avg = sum(self.grades) / len(self.grades)\n",
    "        return avg"
   ]
  },
  {
   "cell_type": "code",
   "execution_count": 9,
   "metadata": {},
   "outputs": [
    {
     "data": {
      "text/plain": [
       "91.375"
      ]
     },
     "execution_count": 9,
     "metadata": {},
     "output_type": "execute_result"
    }
   ],
   "source": [
    "stu = Student(12345,'Harry', 'Potter',[95.5, 100, 90, 80], [3,4,2,3], 'Chemistry')\n",
    "stu.avg_grades()"
   ]
  },
  {
   "cell_type": "markdown",
   "metadata": {},
   "source": [
    "\n",
    "***\n",
    "\n",
    "### Question 5\n",
    "\n",
    "Create a module in the class Student that computes the weighted average of the student's grades, weighted by the credits."
   ]
  },
  {
   "cell_type": "code",
   "execution_count": 10,
   "metadata": {},
   "outputs": [],
   "source": [
    "class Student:\n",
    "    \n",
    "    # constructor\n",
    "    def __init__ (self, num, fir, last, grad, cred, maj):\n",
    "        self.id = num\n",
    "        self.first = fir\n",
    "        self.last = last\n",
    "        self.grades = grad\n",
    "        self.credits = cred\n",
    "        self.major = maj\n",
    "        \n",
    "    def __str__(self):\n",
    "        st_info = \"\"\"\n",
    "        Student:\n",
    "            Id: {num}\n",
    "            Name: {nam}\n",
    "            Major: {maj}\n",
    "            \"\"\".format(num = str(self.id), nam = self.last + ', ' + self.first, maj = str(self.major))\n",
    "        return st_info\n",
    "    \n",
    "    # Checks if the id number is valid \n",
    "    def check_id(self):\n",
    "        if len(str(self.id)) == 5 and int(str(self.id)[0]) == 1: \n",
    "            print('Valid ID number')\n",
    "        else:\n",
    "            print('Not a valid ID number')\n",
    "            \n",
    "    # Checks if the grades list has the same length as the credits list. \n",
    "    def check_grades(self):\n",
    "        if len(self.grades) == len(self.credits): \n",
    "            print('Grades and credits match!')\n",
    "        else:\n",
    "            print('Grades and credits do not match')\n",
    "            \n",
    "    # Appends grade and credits to their respective places\n",
    "    def append(self, newgrade, newcredit):\n",
    "        self.grades.append(newgrade)\n",
    "        self.credits.append(newcredit)\n",
    "        \n",
    "    # Computes average of student's grades\n",
    "    def avg_grades(self):\n",
    "        sum = 0\n",
    "        for i in self.grades:\n",
    "            sum += i\n",
    "        avg = sum / len(self.grades)\n",
    "        return avg\n",
    "    \n",
    "    # Computes weighted average of student's grades\n",
    "    def weighted_avg(self):\n",
    "        tot_grad = 0 \n",
    "        for i in range(len(self.grades)):\n",
    "            tot_grad += self.grades[i] * self.credits[i]\n",
    "        tot_creds = sum(self.credits)\n",
    "        weighted_avg = tot_grad / tot_creds\n",
    "        return weighted_avg"
   ]
  },
  {
   "cell_type": "code",
   "execution_count": 11,
   "metadata": {},
   "outputs": [
    {
     "data": {
      "text/plain": [
       "92.20833333333333"
      ]
     },
     "execution_count": 11,
     "metadata": {},
     "output_type": "execute_result"
    }
   ],
   "source": [
    "stu = Student(12345,'Harry', 'Potter',[95.5, 100, 90, 80], [3,4,2,3], 'Chemistry')\n",
    "stu.weighted_avg()"
   ]
  },
  {
   "cell_type": "markdown",
   "metadata": {},
   "source": [
    "**That's all, folks!**"
   ]
  }
 ],
 "metadata": {
  "kernelspec": {
   "display_name": "Python 3",
   "language": "python",
   "name": "python3"
  },
  "language_info": {
   "codemirror_mode": {
    "name": "ipython",
    "version": 3
   },
   "file_extension": ".py",
   "mimetype": "text/x-python",
   "name": "python",
   "nbconvert_exporter": "python",
   "pygments_lexer": "ipython3",
   "version": "3.8.5"
  }
 },
 "nbformat": 4,
 "nbformat_minor": 4
}
